{
 "cells": [
  {
   "cell_type": "code",
   "execution_count": 33,
   "metadata": {},
   "outputs": [],
   "source": [
    "from Mc2PCA_class import Mc2PCA\n",
    "import numpy as np\n",
    "from sktime.datasets import load_japanese_vowels\n",
    "import matplotlib.pyplot as plt \n",
    "import pandas as pd\n",
    "# import train_test_split\n"
   ]
  },
  {
   "cell_type": "code",
   "execution_count": 78,
   "metadata": {},
   "outputs": [],
   "source": [
    "from sklearn.metrics import confusion_matrix, adjusted_rand_score\n",
    "from scipy.stats import mode\n",
    "import numpy as np\n",
    "import matplotlib.pyplot as plt\n",
    "import seaborn as sns\n",
    "\n",
    "\n",
    "def plot_confusion_matrix(y_true, y_pred, classes):\n",
    "    # Aligner les étiquettes de cluster avec les vraies étiquettes\n",
    "    labels = np.zeros_like(y_pred)\n",
    "    for i in range(max(y_pred) + 1):\n",
    "        mask = (y_pred == i)\n",
    "        if np.sum(mask) > 0:\n",
    "            # Trouver le mode en utilisant np.unique\n",
    "            unique, counts = np.unique(y_true[mask], return_counts=True)\n",
    "            labels[mask] = unique[np.argmax(counts)]\n",
    "\n",
    "    # Calculer la matrice de confusion\n",
    "    conf_matrix = confusion_matrix(y_true, labels)\n",
    "    # print(conf_matrix)\n",
    "\n",
    "    # Calcul de la matrice de confusion\n",
    "    conf_matrix = confusion_matrix(y_true, y_pred, labels=classes)\n",
    "\n",
    "    # Affichage de la matrice de confusion\n",
    "    plt.figure(figsize=(10, 7))\n",
    "    sns.heatmap(conf_matrix, annot=True, fmt=\"d\", cmap=\"Blues\", \n",
    "                xticklabels=classes, yticklabels=classes)\n",
    "    plt.title('Matrice de Confusion')\n",
    "    plt.ylabel('Vraie Classe')\n",
    "    plt.xlabel('Classe Prédite')\n",
    "    plt.show()\n",
    "\n",
    "def compute_precision(C, G):\n",
    "    \"\"\"\n",
    "    Compute the precision of clustering as described in the provided formula.\n",
    "    \n",
    "    C is a list of numpy arrays, where each array represents the indices of MTS objects in the jth predicted cluster.\n",
    "    G is a list of sets, where each set contains the indices of MTS objects in the ith true group.\n",
    "    \n",
    "    Parameters:\n",
    "    - C: A list of numpy arrays representing the predicted clusters.\n",
    "    - G: A list of sets representing the true groups.\n",
    "    \n",
    "    Returns:\n",
    "    - The precision of the clustering.\n",
    "    \"\"\"\n",
    "    N = sum(len(c) for c in C)  # Total number of MTS objects\n",
    "    precision = 0.0\n",
    "    \n",
    "    for cj in C:\n",
    "        cj_set = set(cj)\n",
    "        max_intersection = max(len(cj_set.intersection(gi)) for gi in G)\n",
    "        # if len(cj) == 0:\n",
    "        #     continue  # Ignore les clusters vides\n",
    "        precision += (len(cj) / N) * (max_intersection / len(cj))\n",
    "        \n",
    "    return precision\n",
    "\n",
    "def compute_recall(C, G):\n",
    "    \"\"\"\n",
    "    Compute the recall of clustering.\n",
    "    \n",
    "    C is a list of numpy arrays, where each array represents the indices of MTS objects in the jth predicted cluster.\n",
    "    G is a list of sets, where each set contains the indices of MTS objects in the ith true group.\n",
    "    \n",
    "    Parameters:\n",
    "    - C: A list of numpy arrays representing the predicted clusters.\n",
    "    - G: A list of sets representing the true groups.\n",
    "    \n",
    "    Returns:\n",
    "    - The recall of the clustering.\n",
    "    \"\"\"\n",
    "    N = sum(len(g) for g in G)  # Total number of MTS objects\n",
    "    recall = 0.0\n",
    "    \n",
    "    for gi in G:\n",
    "        gi_set = set(gi)\n",
    "        max_intersection = max(len(gi_set.intersection(cj)) for cj in C)\n",
    "        recall += (len(gi) / N) * (max_intersection / len(gi))\n",
    "        \n",
    "    return recall\n",
    "\n",
    "def get_p_max(X, K, y_test, metric = \"precision\", seuil = 1e-7, max_iter = 50):\n",
    "    nbre_features = X.shape[1] # Works for DataFrame and numpy array\n",
    "\n",
    "    idx_test = [np.where(y_test == str(i))[0] for i in range(1,np.max(y_test.astype(int))+1)]\n",
    "    y_estimate = None\n",
    "    val = np.inf\n",
    "    values = []\n",
    "    p_opt = 0\n",
    "    for p in range(1, nbre_features):\n",
    "        model = Mc2PCA(K, p, seuil, max_iter=max_iter)\n",
    "        idx_estimate, _, _ = model.fit(X)\n",
    "        if metric==\"precision\":\n",
    "            precision = compute_precision(idx_estimate, idx_test)\n",
    "            values.append(precision)\n",
    "        if metric==\"ARI\":\n",
    "            y_estimate = np.arange(len(y_test))\n",
    "            for i in range(len(idx_estimate)):\n",
    "                y_estimate[idx_estimate[i]] = i + 1 \n",
    "            ari_score = adjusted_rand_score(y_test.astype(int), y_estimate)\n",
    "            values.append(ari_score)\n",
    "    values = np.array(values)\n",
    "    return np.argmax(values) + 1, values\n",
    "\n",
    "def get_p_histo(X, K, y_test, seuil = 1e-7, max_iter = 50):\n",
    "    nbre_features = X.shape[1] # Works for DataFrame and numpy array\n",
    "    idx_test = [np.where(y_test == str(i))[0] for i in range(1,np.max(y_test.astype(int))+1)]\n",
    "    y_estimate = None\n",
    "    val = np.inf\n",
    "    precisions = []\n",
    "    aris = []\n",
    "    p_opt = 0\n",
    "    for p in range(1, nbre_features):\n",
    "        model = Mc2PCA(K, p, seuil, max_iter=max_iter)\n",
    "        idx_estimate, _, _ = model.fit(X)\n",
    "        y_estimate = np.arange(len(y_test))\n",
    "        for i in range(len(idx_estimate)):\n",
    "            y_estimate[idx_estimate[i]] = i + 1\n",
    "        precisions.append(compute_precision(idx_estimate, idx_test))\n",
    "        aris.append(adjusted_rand_score(y_test.astype(int), y_estimate))\n",
    "    return precisions, aris\n",
    "\n",
    "def plot_info(X, K, seuil = 1e-7, max_iter = 50):\n",
    "    nbre_features = X.shape[1] # Works for DataFrame and numpy array\n",
    "    info_tot = []\n",
    "    for p in range(1, nbre_features):\n",
    "        model = Mc2PCA(K, p, seuil, max_iter=max_iter)\n",
    "        _, _, info_by_cluster = model.fit(X)\n",
    "        info_tot.append(info_by_cluster)\n",
    "    plt.figure(figsize=(10, 7))\n",
    "    info_tot = np.array(info_tot)\n",
    "    for i in range(K):\n",
    "        # cum_sum = [sum(info_tot[i][:j+1])  for j in range(len(info_tot[i]))]\n",
    "        plt.plot(np.arange(1, nbre_features), info_tot[:, i], label = \"Cluster \" + str(i+1), marker = 'x')\n",
    "    plt.legend()\n",
    "    # Ecris les légendes et le titre en anglais \n",
    "    plt.title(\"Cumulative Information for each cluster for different p\")\n",
    "    plt.xlabel(\"Number of p for Mc2PCA\")\n",
    "    plt.ylabel(\"Information\")\n",
    "    plt.xticks(np.arange(1, nbre_features))\n",
    "    plt.show()\n",
    "    \n",
    "def plot_hist(X, K, y_test, seuil = 1e-7, max_iter = 50):\n",
    "    precisions, aris = get_p_histo(X, K, y_test, seuil = 1e-7, max_iter = 50)\n",
    "    # Positions des barres sur l'axe des abscisses\n",
    "    x = np.arange(1, len(precisions) + 1)\n",
    "\n",
    "    # Largeur des barres\n",
    "    bar_width = 0.35\n",
    "\n",
    "    # Création des barres\n",
    "    plt.bar(x - bar_width/2, precisions, width=bar_width, label='Precision')\n",
    "    plt.bar(x + bar_width/2, aris, width=bar_width, label='ARI')\n",
    "\n",
    "    # Ajout d'étiquettes et de légendes\n",
    "    plt.xlabel('Number of p for Mc2PCA')\n",
    "    plt.title('Comparison of Precision and ARI for different p')\n",
    "    plt.xticks(x, [str(i) for i in x])\n",
    "    plt.legend()\n",
    "\n",
    "    # Afficher le graphique\n",
    "    plt.show()\n",
    "    return precisions, aris\n",
    "\n",
    "def metrics(y_test, idx_estimate,plot=False):\n",
    "    idx_test = [np.where(y_test == str(i))[0] for i in range(1,np.max(y_test.astype(int))+1)]\n",
    "    # Conversion des indices en classes\n",
    "    y_estimate = np.arange(len(y_test))\n",
    "    for i in range(len(idx_estimate)):\n",
    "        y_estimate[idx_estimate[i]] = i + 1 \n",
    "\n",
    "\n",
    "    # Calcul de l'ARI\n",
    "    ari_score = adjusted_rand_score(y_test.astype(int), y_estimate)\n",
    "\n",
    "\n",
    "    # Calcul de la précision\n",
    "    precision = compute_precision(idx_estimate, idx_test)\n",
    "   \n",
    "\n",
    "    recall = compute_recall(idx_estimate, idx_test)\n",
    "    if(plot):\n",
    "        print(\"Adjusted Rand Index:\", ari_score) \n",
    "        print(\"Precision:\", precision)\n",
    "        print(\"Recall:\", recall)\n",
    "        # print(\"varie entre -1 et 1, 1 indique une correspondance parfaite, 0 indique une correspondance aléatoire et -1 indique une correspondance complètement incorrecte\")\n",
    "\n",
    "        plot_confusion_matrix(y_test.astype(int), y_estimate, classes = np.arange(1, np.max(y_test.astype(int) + 1)))\n",
    "        plt.show()\n",
    "    return ari_score,precision,recall"
   ]
  },
  {
   "cell_type": "code",
   "execution_count": 92,
   "metadata": {},
   "outputs": [],
   "source": [
    "X_test, y_test = load_japanese_vowels(return_X_y=True, split=\"train\")\n",
    "X_train, y_train = load_japanese_vowels(return_X_y=True, split=\"test\")\n",
    "np.random.seed(0)\n",
    "# # shuffle rows\n",
    "X_train = X_train.sample(frac=1)\n",
    "y_train = y_train[X_train.index]"
   ]
  },
  {
   "cell_type": "code",
   "execution_count": 93,
   "metadata": {},
   "outputs": [
    {
     "data": {
      "text/plain": [
       "array([ 0.34513798,  0.20566037,  0.20091099, -0.50749609, -0.00763497,\n",
       "       -0.23163759,  0.08785683, -0.03080538,  0.28566778,  0.09956177,\n",
       "        0.24679605, -0.1463898 , -0.29642289, -0.12869776])"
      ]
     },
     "execution_count": 93,
     "metadata": {},
     "output_type": "execute_result"
    }
   ],
   "source": [
    "Epsilon = np.empty_like(X_train)\n",
    "for i in range(Epsilon.shape[0]):\n",
    "    for j in range(Epsilon.shape[1]):\n",
    "        moy = X_train.iloc[i,j].mean()\n",
    "        Epsilon[i, j] = moy*np.random.randn(len(X_train.iloc[i,j]))\n",
    "Epsilon[0,0]"
   ]
  },
  {
   "cell_type": "code",
   "execution_count": 99,
   "metadata": {},
   "outputs": [],
   "source": [
    "# add noise to X_train\n",
    "fact=1\n",
    "X_train_noised = X_train + fact*Epsilon"
   ]
  },
  {
   "cell_type": "code",
   "execution_count": 100,
   "metadata": {},
   "outputs": [
    {
     "data": {
      "text/plain": [
       "[<matplotlib.lines.Line2D at 0x7f8d5aea8dc0>]"
      ]
     },
     "execution_count": 100,
     "metadata": {},
     "output_type": "execute_result"
    },
    {
     "data": {
      "image/png": "[encoded data removed]",
      "text/plain": [
       "<Figure size 700x200 with 1 Axes>"
      ]
     },
     "metadata": {},
     "output_type": "display_data"
    },
    {
     "data": {
      "image/png": "[encoded data removed]",
      "text/plain": [
       "<Figure size 700x200 with 1 Axes>"
      ]
     },
     "metadata": {},
     "output_type": "display_data"
    }
   ],
   "source": [
    "plt.figure(figsize=(7, 2))\n",
    "plt.plot(X_train.iloc[5,0], label = \"Original\")\n",
    "plt.figure(figsize=(7, 2))\n",
    "plt.plot(X_train_noised.iloc[5,0], label = \"Noised\")"
   ]
  },
  {
   "cell_type": "code",
   "execution_count": 74,
   "metadata": {},
   "outputs": [
    {
     "name": "stderr",
     "output_type": "stream",
     "text": [
      " 24%|██▍       | 12/50 [00:01<00:04,  9.44it/s]\n"
     ]
    },
    {
     "data": {
      "image/png": "[encoded data removed]",
      "text/plain": [
       "<Figure size 640x480 with 1 Axes>"
      ]
     },
     "metadata": {},
     "output_type": "display_data"
    }
   ],
   "source": [
    "# add noise to X_train\n",
    "X_train_noised = X_train + Epsilon\n",
    "\n",
    "K = 9\n",
    "p = 3\n",
    "seuil = 1e-7\n",
    "model = Mc2PCA(K, p, seuil, max_iter=50)\n",
    "idx, E, info_by_cluster = model.fit(X_train_noised)\n",
    "plt.plot(E)\n",
    "plt.show()"
   ]
  },
  {
   "cell_type": "code",
   "execution_count": 75,
   "metadata": {},
   "outputs": [
    {
     "name": "stdout",
     "output_type": "stream",
     "text": [
      "Adjusted Rand Index: 0.2353967683005784\n",
      "Precision: 0.5081081081081081\n",
      "Recall: 0.4864864864864865\n"
     ]
    },
    {
     "data": {
      "image/png": "[encoded data removed]",
      "text/plain": [
       "<Figure size 1000x700 with 2 Axes>"
      ]
     },
     "metadata": {},
     "output_type": "display_data"
    }
   ],
   "source": [
    "metrics(y_train, idx)"
   ]
  },
  {
   "cell_type": "code",
   "execution_count": 101,
   "metadata": {},
   "outputs": [
    {
     "name": "stdout",
     "output_type": "stream",
     "text": [
      "fact: 0\n"
     ]
    },
    {
     "name": "stderr",
     "output_type": "stream",
     "text": [
      " 28%|██▊       | 14/50 [00:01<00:02, 12.07it/s]\n",
      " 30%|███       | 15/50 [00:01<00:02, 11.88it/s]\n",
      " 28%|██▊       | 14/50 [00:01<00:03, 11.89it/s]\n",
      " 20%|██        | 10/50 [00:00<00:03, 10.49it/s]\n",
      " 26%|██▌       | 13/50 [00:01<00:03, 10.27it/s]\n",
      " 56%|█████▌    | 28/50 [00:02<00:02, 10.08it/s]\n",
      " 52%|█████▏    | 26/50 [00:02<00:02,  8.95it/s]\n",
      " 36%|███▌      | 18/50 [00:02<00:03,  8.91it/s]\n",
      " 30%|███       | 15/50 [00:01<00:03,  8.79it/s]\n",
      " 36%|███▌      | 18/50 [00:02<00:04,  7.87it/s]\n",
      " 46%|████▌     | 23/50 [00:02<00:03,  8.13it/s]\n",
      " 24%|██▍       | 12/50 [00:01<00:04,  8.90it/s]\n",
      " 26%|██▌       | 13/50 [00:01<00:04,  8.08it/s]\n",
      " 36%|███▌      | 18/50 [00:01<00:03,  9.10it/s]\n",
      " 30%|███       | 15/50 [00:01<00:03,  8.90it/s]\n",
      " 38%|███▊      | 19/50 [00:02<00:03,  8.49it/s]\n",
      " 22%|██▏       | 11/50 [00:01<00:05,  7.42it/s]\n",
      " 24%|██▍       | 12/50 [00:01<00:04,  8.72it/s]\n",
      " 22%|██▏       | 11/50 [00:01<00:04,  8.59it/s]\n",
      " 40%|████      | 20/50 [00:02<00:03,  9.65it/s]\n"
     ]
    },
    {
     "name": "stdout",
     "output_type": "stream",
     "text": [
      "fact: 0.01\n"
     ]
    },
    {
     "name": "stderr",
     "output_type": "stream",
     "text": [
      " 24%|██▍       | 12/50 [00:01<00:03,  9.68it/s]\n",
      " 28%|██▊       | 14/50 [00:01<00:04,  8.97it/s]\n",
      " 40%|████      | 20/50 [00:02<00:03,  8.90it/s]\n",
      " 32%|███▏      | 16/50 [00:01<00:03,  9.77it/s]\n",
      " 22%|██▏       | 11/50 [00:01<00:04,  8.93it/s]\n",
      " 50%|█████     | 25/50 [00:02<00:02,  9.74it/s]\n",
      " 24%|██▍       | 12/50 [00:01<00:04,  8.02it/s]\n",
      " 24%|██▍       | 12/50 [00:01<00:04,  7.81it/s]\n",
      " 34%|███▍      | 17/50 [00:02<00:04,  7.74it/s]\n",
      " 32%|███▏      | 16/50 [00:01<00:03,  9.29it/s]\n",
      " 38%|███▊      | 19/50 [00:01<00:03,  9.79it/s]\n",
      " 28%|██▊       | 14/50 [00:01<00:03,  9.38it/s]\n",
      " 40%|████      | 20/50 [00:02<00:03,  8.24it/s]\n",
      " 22%|██▏       | 11/50 [00:01<00:04,  8.57it/s]\n",
      " 28%|██▊       | 14/50 [00:01<00:04,  7.78it/s]\n",
      " 38%|███▊      | 19/50 [00:02<00:03,  8.15it/s]\n",
      " 38%|███▊      | 19/50 [00:02<00:03,  7.96it/s]\n",
      " 44%|████▍     | 22/50 [00:02<00:03,  7.53it/s]\n",
      " 34%|███▍      | 17/50 [00:02<00:04,  8.02it/s]\n",
      " 56%|█████▌    | 28/50 [00:03<00:02,  7.61it/s]\n"
     ]
    },
    {
     "name": "stdout",
     "output_type": "stream",
     "text": [
      "fact: 0.1\n"
     ]
    },
    {
     "name": "stderr",
     "output_type": "stream",
     "text": [
      " 24%|██▍       | 12/50 [00:01<00:05,  7.13it/s]\n",
      " 24%|██▍       | 12/50 [00:01<00:04,  8.03it/s]\n",
      " 24%|██▍       | 12/50 [00:01<00:04,  7.74it/s]\n",
      " 26%|██▌       | 13/50 [00:01<00:04,  7.82it/s]\n",
      " 42%|████▏     | 21/50 [00:02<00:03,  9.10it/s]\n",
      " 22%|██▏       | 11/50 [00:01<00:04,  9.63it/s]\n",
      " 28%|██▊       | 14/50 [00:01<00:03, 10.13it/s]\n",
      " 20%|██        | 10/50 [00:01<00:04,  9.82it/s]\n",
      " 26%|██▌       | 13/50 [00:01<00:03, 10.14it/s]\n",
      " 36%|███▌      | 18/50 [00:01<00:03, 10.27it/s]\n",
      " 28%|██▊       | 14/50 [00:01<00:03, 10.13it/s]\n",
      " 28%|██▊       | 14/50 [00:01<00:03,  9.72it/s]\n",
      " 26%|██▌       | 13/50 [00:01<00:03,  9.60it/s]\n",
      " 56%|█████▌    | 28/50 [00:02<00:02, 10.51it/s]\n",
      " 18%|█▊        | 9/50 [00:00<00:03, 10.31it/s]\n",
      " 36%|███▌      | 18/50 [00:01<00:03, 10.53it/s]\n",
      " 50%|█████     | 25/50 [00:02<00:02, 10.71it/s]\n",
      " 26%|██▌       | 13/50 [00:01<00:03, 10.47it/s]\n",
      " 24%|██▍       | 12/50 [00:01<00:03, 10.37it/s]\n",
      " 38%|███▊      | 19/50 [00:01<00:02, 10.92it/s]\n"
     ]
    },
    {
     "name": "stdout",
     "output_type": "stream",
     "text": [
      "fact: 0.5\n"
     ]
    },
    {
     "name": "stderr",
     "output_type": "stream",
     "text": [
      " 30%|███       | 15/50 [00:01<00:03,  9.71it/s]\n",
      " 50%|█████     | 25/50 [00:02<00:02,  8.64it/s]\n",
      " 30%|███       | 15/50 [00:01<00:04,  8.48it/s]\n",
      " 34%|███▍      | 17/50 [00:01<00:03,  8.72it/s]\n",
      " 36%|███▌      | 18/50 [00:02<00:03,  8.53it/s]\n",
      " 40%|████      | 20/50 [00:02<00:03,  9.01it/s]\n",
      " 34%|███▍      | 17/50 [00:01<00:03,  8.87it/s]\n",
      " 32%|███▏      | 16/50 [00:01<00:03,  9.10it/s]\n",
      " 50%|█████     | 25/50 [00:02<00:02,  8.62it/s]\n",
      " 26%|██▌       | 13/50 [00:01<00:04,  7.84it/s]\n",
      " 26%|██▌       | 13/50 [00:01<00:04,  8.44it/s]\n",
      " 38%|███▊      | 19/50 [00:02<00:03,  9.10it/s]\n",
      " 38%|███▊      | 19/50 [00:02<00:03,  8.01it/s]\n",
      " 22%|██▏       | 11/50 [00:01<00:04,  8.44it/s]\n",
      " 26%|██▌       | 13/50 [00:01<00:04,  8.88it/s]\n",
      " 30%|███       | 15/50 [00:01<00:04,  8.49it/s]\n",
      " 44%|████▍     | 22/50 [00:02<00:03,  8.63it/s]\n",
      " 42%|████▏     | 21/50 [00:02<00:03,  8.40it/s]\n",
      " 26%|██▌       | 13/50 [00:01<00:04,  8.09it/s]\n",
      " 36%|███▌      | 18/50 [00:02<00:03,  8.56it/s]\n"
     ]
    },
    {
     "name": "stdout",
     "output_type": "stream",
     "text": [
      "fact: 1\n"
     ]
    },
    {
     "name": "stderr",
     "output_type": "stream",
     "text": [
      " 22%|██▏       | 11/50 [00:01<00:04,  8.21it/s]\n",
      " 32%|███▏      | 16/50 [00:02<00:04,  7.99it/s]\n",
      " 42%|████▏     | 21/50 [00:02<00:03,  8.26it/s]\n",
      " 48%|████▊     | 24/50 [00:02<00:03,  8.30it/s]\n",
      " 26%|██▌       | 13/50 [00:01<00:05,  6.96it/s]\n",
      " 22%|██▏       | 11/50 [00:01<00:05,  6.80it/s]\n",
      " 30%|███       | 15/50 [00:02<00:05,  6.54it/s]\n",
      " 30%|███       | 15/50 [00:02<00:05,  6.42it/s]\n",
      " 40%|████      | 20/50 [00:03<00:04,  6.34it/s]\n",
      " 20%|██        | 10/50 [00:01<00:05,  7.74it/s]\n",
      " 18%|█▊        | 9/50 [00:01<00:05,  8.17it/s]\n",
      " 28%|██▊       | 14/50 [00:01<00:04,  8.29it/s]\n",
      " 30%|███       | 15/50 [00:01<00:03,  8.78it/s]\n",
      " 32%|███▏      | 16/50 [00:02<00:04,  7.66it/s]\n",
      " 30%|███       | 15/50 [00:01<00:03,  9.35it/s]\n",
      " 30%|███       | 15/50 [00:01<00:03,  9.16it/s]\n",
      " 32%|███▏      | 16/50 [00:02<00:04,  7.53it/s]\n",
      " 60%|██████    | 30/50 [00:03<00:02,  7.70it/s]\n",
      " 26%|██▌       | 13/50 [00:01<00:04,  8.43it/s]\n",
      " 36%|███▌      | 18/50 [00:02<00:03,  8.00it/s]\n"
     ]
    },
    {
     "name": "stdout",
     "output_type": "stream",
     "text": [
      "fact: 1.5\n"
     ]
    },
    {
     "name": "stderr",
     "output_type": "stream",
     "text": [
      " 32%|███▏      | 16/50 [00:02<00:05,  6.14it/s]\n",
      " 20%|██        | 10/50 [00:01<00:04,  8.15it/s]\n",
      " 30%|███       | 15/50 [00:02<00:05,  6.76it/s]\n",
      " 26%|██▌       | 13/50 [00:02<00:06,  5.79it/s]\n",
      " 38%|███▊      | 19/50 [00:02<00:04,  6.77it/s]\n",
      " 26%|██▌       | 13/50 [00:01<00:04,  7.75it/s]\n",
      " 46%|████▌     | 23/50 [00:02<00:03,  7.98it/s]\n",
      " 50%|█████     | 25/50 [00:03<00:03,  7.96it/s]\n",
      " 38%|███▊      | 19/50 [00:02<00:03,  7.86it/s]\n",
      " 40%|████      | 20/50 [00:02<00:03,  8.38it/s]\n",
      " 60%|██████    | 30/50 [00:03<00:02,  8.04it/s]\n",
      " 24%|██▍       | 12/50 [00:01<00:04,  8.01it/s]\n",
      " 30%|███       | 15/50 [00:01<00:03,  8.84it/s]\n",
      " 44%|████▍     | 22/50 [00:02<00:03,  7.76it/s]\n",
      " 22%|██▏       | 11/50 [00:01<00:05,  7.55it/s]\n",
      " 32%|███▏      | 16/50 [00:02<00:04,  7.74it/s]\n",
      " 24%|██▍       | 12/50 [00:01<00:04,  7.80it/s]\n",
      " 22%|██▏       | 11/50 [00:01<00:05,  7.31it/s]\n",
      " 24%|██▍       | 12/50 [00:01<00:05,  7.27it/s]\n",
      " 38%|███▊      | 19/50 [00:02<00:03,  7.88it/s]\n"
     ]
    },
    {
     "name": "stdout",
     "output_type": "stream",
     "text": [
      "fact: 2\n"
     ]
    },
    {
     "name": "stderr",
     "output_type": "stream",
     "text": [
      " 72%|███████▏  | 36/50 [00:04<00:01,  7.54it/s]\n",
      " 28%|██▊       | 14/50 [00:01<00:04,  7.50it/s]\n",
      " 28%|██▊       | 14/50 [00:01<00:04,  7.78it/s]\n",
      " 40%|████      | 20/50 [00:02<00:03,  7.69it/s]\n",
      " 34%|███▍      | 17/50 [00:02<00:04,  8.13it/s]\n",
      " 34%|███▍      | 17/50 [00:02<00:04,  7.98it/s]\n",
      " 30%|███       | 15/50 [00:01<00:04,  8.14it/s]\n",
      " 34%|███▍      | 17/50 [00:02<00:04,  7.01it/s]\n",
      " 60%|██████    | 30/50 [00:04<00:02,  6.99it/s]\n",
      " 36%|███▌      | 18/50 [00:02<00:04,  7.42it/s]\n",
      " 24%|██▍       | 12/50 [00:01<00:05,  7.10it/s]\n",
      " 30%|███       | 15/50 [00:02<00:04,  7.24it/s]\n",
      " 26%|██▌       | 13/50 [00:01<00:04,  7.57it/s]\n",
      " 36%|███▌      | 18/50 [00:02<00:04,  7.30it/s]\n",
      " 22%|██▏       | 11/50 [00:01<00:05,  7.72it/s]\n",
      " 24%|██▍       | 12/50 [00:01<00:04,  7.93it/s]\n",
      " 30%|███       | 15/50 [00:01<00:04,  7.73it/s]\n",
      " 20%|██        | 10/50 [00:01<00:04,  8.04it/s]\n",
      " 14%|█▍        | 7/50 [00:01<00:06,  6.52it/s]\n",
      " 28%|██▊       | 14/50 [00:01<00:04,  7.84it/s]\n"
     ]
    },
    {
     "name": "stdout",
     "output_type": "stream",
     "text": [
      "fact: 3\n"
     ]
    },
    {
     "name": "stderr",
     "output_type": "stream",
     "text": [
      " 22%|██▏       | 11/50 [00:01<00:05,  6.61it/s]\n",
      " 34%|███▍      | 17/50 [00:02<00:04,  7.32it/s]\n",
      " 20%|██        | 10/50 [00:01<00:05,  7.29it/s]\n",
      " 38%|███▊      | 19/50 [00:02<00:04,  7.35it/s]\n",
      " 24%|██▍       | 12/50 [00:02<00:06,  5.67it/s]\n",
      " 18%|█▊        | 9/50 [00:01<00:05,  7.02it/s]\n",
      " 60%|██████    | 30/50 [00:04<00:03,  6.65it/s]\n",
      " 28%|██▊       | 14/50 [00:02<00:05,  6.08it/s]\n",
      " 20%|██        | 10/50 [00:01<00:05,  6.73it/s]\n",
      " 20%|██        | 10/50 [00:01<00:06,  6.19it/s]\n",
      " 20%|██        | 10/50 [00:01<00:05,  7.15it/s]\n",
      " 26%|██▌       | 13/50 [00:01<00:04,  7.52it/s]\n",
      " 28%|██▊       | 14/50 [00:01<00:04,  7.37it/s]\n",
      " 34%|███▍      | 17/50 [00:02<00:04,  7.77it/s]\n",
      " 24%|██▍       | 12/50 [00:01<00:05,  7.19it/s]\n",
      " 32%|███▏      | 16/50 [00:02<00:04,  7.39it/s]\n",
      " 34%|███▍      | 17/50 [00:02<00:04,  7.74it/s]\n",
      " 40%|████      | 20/50 [00:02<00:03,  8.11it/s]\n",
      " 38%|███▊      | 19/50 [00:02<00:03,  8.06it/s]\n",
      " 30%|███       | 15/50 [00:01<00:04,  7.92it/s]"
     ]
    },
    {
     "name": "stdout",
     "output_type": "stream",
     "text": [
      "   fact  ARI_mean   ARI_std  Precision_mean  Precision_std  Recall_mean  \\\n",
      "0  0.00  0.241394  0.038584        0.516081       0.029760     0.485405   \n",
      "1  0.01  0.247304  0.036073        0.523446       0.029280     0.491284   \n",
      "2  0.10  0.250483  0.037553        0.525721       0.033726     0.493829   \n",
      "3  0.50  0.266521  0.047316        0.535135       0.038129     0.510574   \n",
      "4  1.00  0.273947  0.049702        0.533000       0.039019     0.517919   \n",
      "5  1.50  0.275688  0.047669        0.527005       0.040355     0.520518   \n",
      "6  2.00  0.272924  0.045909        0.519556       0.042617     0.519595   \n",
      "7  3.00  0.266996  0.047480        0.511250       0.046378     0.516706   \n",
      "\n",
      "   Recall_std  \n",
      "0    0.032639  \n",
      "1    0.030154  \n",
      "2    0.035056  \n",
      "3    0.046002  \n",
      "4    0.050578  \n",
      "5    0.049328  \n",
      "6    0.047950  \n",
      "7    0.047356  \n"
     ]
    },
    {
     "name": "stderr",
     "output_type": "stream",
     "text": [
      "\n"
     ]
    }
   ],
   "source": [
    "ari_scores=[]\n",
    "precisions=[]\n",
    "recalls=[]\n",
    "df = pd.DataFrame(columns=[\"fact\",\"ARI_mean\",\"ARI_std\",\"Precision_mean\",\"Precision_std\",\"Recall_mean\",\"Recall_std\"])\n",
    "for fact in [0,0.01,0.1,0.5,1,1.5,2,3]:\n",
    "    print(\"fact:\",fact)\n",
    "    for i in range(20):\n",
    "        X_test, y_test = load_japanese_vowels(return_X_y=True, split=\"train\")\n",
    "        X_train, y_train = load_japanese_vowels(return_X_y=True, split=\"test\")\n",
    "        np.random.seed(i)\n",
    "        # shuffle rows\n",
    "        X_train = X_train.sample(frac=1)\n",
    "        y_train = y_train[X_train.index]\n",
    "\n",
    "        Epsilon = np.empty_like(X_train)\n",
    "        for i in range(Epsilon.shape[0]):\n",
    "            for j in range(Epsilon.shape[1]):\n",
    "                moy = X_train.iloc[i,j].mean()\n",
    "                Epsilon[i, j] = moy*np.random.randn(len(X_train.iloc[i,j]))\n",
    "        \n",
    "        X_train_noised = X_train + fact*Epsilon\n",
    "\n",
    "        K = 9\n",
    "        p = 3\n",
    "        seuil = 1e-7\n",
    "        model = Mc2PCA(K, p, seuil, max_iter=50)\n",
    "        idx, E, info_by_cluster = model.fit(X_train_noised)\n",
    "        \n",
    "        ari_score,precision,recall = metrics(y_train,idx)\n",
    "        ari_scores.append(ari_score)\n",
    "        precisions.append(precision)\n",
    "        recalls.append(recall)\n",
    "\n",
    "    df.loc[len(df)] = [fact,np.mean(ari_scores),np.std(ari_scores),np.mean(precisions),np.std(precisions),np.mean(recalls),np.std(recalls)]\n",
    "\n",
    "print(df)"
   ]
  },
  {
   "cell_type": "code",
   "execution_count": 103,
   "metadata": {},
   "outputs": [],
   "source": [
    "df.to_csv(\"results/results_sensivity.csv\")"
   ]
  }
 ],
 "metadata": {
  "kernelspec": {
   "display_name": "ts-env",
   "language": "python",
   "name": "python3"
  },
  "language_info": {
   "codemirror_mode": {
    "name": "ipython",
    "version": 3
   },
   "file_extension": ".py",
   "mimetype": "text/x-python",
   "name": "python",
   "nbconvert_exporter": "python",
   "pygments_lexer": "ipython3",
   "version": "3.8.10"
  }
 },
 "nbformat": 4,
 "nbformat_minor": 2
}
